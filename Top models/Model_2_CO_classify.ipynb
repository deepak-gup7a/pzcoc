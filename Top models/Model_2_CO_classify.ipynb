{
  "nbformat": 4,
  "nbformat_minor": 0,
  "metadata": {
    "colab": {
      "provenance": []
    },
    "kernelspec": {
      "name": "python3",
      "display_name": "Python 3"
    },
    "language_info": {
      "name": "python"
    }
  },
  "cells": [
    {
      "cell_type": "code",
      "execution_count": null,
      "metadata": {
        "id": "GzevwAcGq0P8"
      },
      "outputs": [],
      "source": [
        "import pandas as pd\n",
        "import numpy as np\n",
        "import tensorflow as tf\n",
        "from matplotlib import pyplot as plt\n",
        "from tensorflow import keras\n",
        "from tensorflow.keras import layers\n",
        "from sklearn.model_selection import train_test_split\n",
        "from sklearn.preprocessing import StandardScaler\n",
        "from sklearn.preprocessing import LabelEncoder, OneHotEncoder\n",
        "\n"
      ]
    },
    {
      "cell_type": "code",
      "source": [
        "from google.colab import drive\n",
        "drive.mount('/content/drive')"
      ],
      "metadata": {
        "colab": {
          "base_uri": "https://localhost:8080/"
        },
        "id": "XibQfbb3q7jj",
        "outputId": "786db68d-06a7-4474-a49f-d91d1083313e"
      },
      "execution_count": null,
      "outputs": [
        {
          "output_type": "stream",
          "name": "stdout",
          "text": [
            "Mounted at /content/drive\n"
          ]
        }
      ]
    },
    {
      "cell_type": "code",
      "source": [
        " df = pd.read_csv(\"/content/drive/MyDrive/complete_dataset.csv\")"
      ],
      "metadata": {
        "id": "4Q0lzg0yrT68"
      },
      "execution_count": null,
      "outputs": []
    },
    {
      "cell_type": "code",
      "source": [
        "df.head()"
      ],
      "metadata": {
        "id": "vJVbPGpPtD_R",
        "colab": {
          "base_uri": "https://localhost:8080/",
          "height": 300
        },
        "outputId": "44890ade-9a02-4286-b02a-9b675edc71fc"
      },
      "execution_count": null,
      "outputs": [
        {
          "output_type": "execute_result",
          "data": {
            "text/plain": [
              "   modelMag_u  modelMag_g  modelMag_r  modelMag_i  modelMag_z  fiberMag_u  \\\n",
              "0    0.001875    0.024946    1.073536    0.098735    0.124608   -0.001200   \n",
              "1    0.037172    0.041055    0.404224    0.015898    0.010719    0.020721   \n",
              "2    0.071321    0.051603    0.823187    0.026963    0.017246    0.046143   \n",
              "3   -0.049880   -0.056115   -1.855847   -0.119150   -0.120956   -0.036716   \n",
              "4    0.046443    0.031985    0.332529    0.010698    0.002047    0.033888   \n",
              "\n",
              "   fiberMag_g  fiberMag_r  fiberMag_i  fiberMag_z  ...      mmug      mmgr  \\\n",
              "0    0.017518    0.995311    0.096295    0.115285  ...  0.013955  0.059661   \n",
              "1    0.032666    0.338425    0.007471   -0.000585  ...  0.040710  0.054073   \n",
              "2    0.047539    0.955438    0.029321    0.018973  ...  0.063974  0.078169   \n",
              "3   -0.049527   -2.039592   -0.131198   -0.132498  ... -0.055161 -0.116107   \n",
              "4    0.039251    0.667807    0.028947    0.018181  ...  0.040817  0.042697   \n",
              "\n",
              "       mmri      mmiz      mfug      mfgr      mfri      mfiz    z_phot  label  \n",
              "0  0.169960  0.136614  0.008492  0.043766  0.162180  0.122070  1.802092      1  \n",
              "1  0.042859  0.016281  0.027783  0.041560  0.030038  0.003973  2.003878      1  \n",
              "2  0.081904  0.027041  0.048753  0.072699  0.092979  0.027863  2.069658      1  \n",
              "3 -0.242623 -0.146867 -0.044881 -0.103298 -0.266642 -0.152137  1.228064      1  \n",
              "4  0.032893  0.007796  0.038062  0.056830  0.073386  0.027191  3.268066      1  \n",
              "\n",
              "[5 rows x 28 columns]"
            ],
            "text/html": [
              "\n",
              "  <div id=\"df-adfc0d40-8d54-454b-84bb-f3999b0aa1bf\">\n",
              "    <div class=\"colab-df-container\">\n",
              "      <div>\n",
              "<style scoped>\n",
              "    .dataframe tbody tr th:only-of-type {\n",
              "        vertical-align: middle;\n",
              "    }\n",
              "\n",
              "    .dataframe tbody tr th {\n",
              "        vertical-align: top;\n",
              "    }\n",
              "\n",
              "    .dataframe thead th {\n",
              "        text-align: right;\n",
              "    }\n",
              "</style>\n",
              "<table border=\"1\" class=\"dataframe\">\n",
              "  <thead>\n",
              "    <tr style=\"text-align: right;\">\n",
              "      <th></th>\n",
              "      <th>modelMag_u</th>\n",
              "      <th>modelMag_g</th>\n",
              "      <th>modelMag_r</th>\n",
              "      <th>modelMag_i</th>\n",
              "      <th>modelMag_z</th>\n",
              "      <th>fiberMag_u</th>\n",
              "      <th>fiberMag_g</th>\n",
              "      <th>fiberMag_r</th>\n",
              "      <th>fiberMag_i</th>\n",
              "      <th>fiberMag_z</th>\n",
              "      <th>...</th>\n",
              "      <th>mmug</th>\n",
              "      <th>mmgr</th>\n",
              "      <th>mmri</th>\n",
              "      <th>mmiz</th>\n",
              "      <th>mfug</th>\n",
              "      <th>mfgr</th>\n",
              "      <th>mfri</th>\n",
              "      <th>mfiz</th>\n",
              "      <th>z_phot</th>\n",
              "      <th>label</th>\n",
              "    </tr>\n",
              "  </thead>\n",
              "  <tbody>\n",
              "    <tr>\n",
              "      <th>0</th>\n",
              "      <td>0.001875</td>\n",
              "      <td>0.024946</td>\n",
              "      <td>1.073536</td>\n",
              "      <td>0.098735</td>\n",
              "      <td>0.124608</td>\n",
              "      <td>-0.001200</td>\n",
              "      <td>0.017518</td>\n",
              "      <td>0.995311</td>\n",
              "      <td>0.096295</td>\n",
              "      <td>0.115285</td>\n",
              "      <td>...</td>\n",
              "      <td>0.013955</td>\n",
              "      <td>0.059661</td>\n",
              "      <td>0.169960</td>\n",
              "      <td>0.136614</td>\n",
              "      <td>0.008492</td>\n",
              "      <td>0.043766</td>\n",
              "      <td>0.162180</td>\n",
              "      <td>0.122070</td>\n",
              "      <td>1.802092</td>\n",
              "      <td>1</td>\n",
              "    </tr>\n",
              "    <tr>\n",
              "      <th>1</th>\n",
              "      <td>0.037172</td>\n",
              "      <td>0.041055</td>\n",
              "      <td>0.404224</td>\n",
              "      <td>0.015898</td>\n",
              "      <td>0.010719</td>\n",
              "      <td>0.020721</td>\n",
              "      <td>0.032666</td>\n",
              "      <td>0.338425</td>\n",
              "      <td>0.007471</td>\n",
              "      <td>-0.000585</td>\n",
              "      <td>...</td>\n",
              "      <td>0.040710</td>\n",
              "      <td>0.054073</td>\n",
              "      <td>0.042859</td>\n",
              "      <td>0.016281</td>\n",
              "      <td>0.027783</td>\n",
              "      <td>0.041560</td>\n",
              "      <td>0.030038</td>\n",
              "      <td>0.003973</td>\n",
              "      <td>2.003878</td>\n",
              "      <td>1</td>\n",
              "    </tr>\n",
              "    <tr>\n",
              "      <th>2</th>\n",
              "      <td>0.071321</td>\n",
              "      <td>0.051603</td>\n",
              "      <td>0.823187</td>\n",
              "      <td>0.026963</td>\n",
              "      <td>0.017246</td>\n",
              "      <td>0.046143</td>\n",
              "      <td>0.047539</td>\n",
              "      <td>0.955438</td>\n",
              "      <td>0.029321</td>\n",
              "      <td>0.018973</td>\n",
              "      <td>...</td>\n",
              "      <td>0.063974</td>\n",
              "      <td>0.078169</td>\n",
              "      <td>0.081904</td>\n",
              "      <td>0.027041</td>\n",
              "      <td>0.048753</td>\n",
              "      <td>0.072699</td>\n",
              "      <td>0.092979</td>\n",
              "      <td>0.027863</td>\n",
              "      <td>2.069658</td>\n",
              "      <td>1</td>\n",
              "    </tr>\n",
              "    <tr>\n",
              "      <th>3</th>\n",
              "      <td>-0.049880</td>\n",
              "      <td>-0.056115</td>\n",
              "      <td>-1.855847</td>\n",
              "      <td>-0.119150</td>\n",
              "      <td>-0.120956</td>\n",
              "      <td>-0.036716</td>\n",
              "      <td>-0.049527</td>\n",
              "      <td>-2.039592</td>\n",
              "      <td>-0.131198</td>\n",
              "      <td>-0.132498</td>\n",
              "      <td>...</td>\n",
              "      <td>-0.055161</td>\n",
              "      <td>-0.116107</td>\n",
              "      <td>-0.242623</td>\n",
              "      <td>-0.146867</td>\n",
              "      <td>-0.044881</td>\n",
              "      <td>-0.103298</td>\n",
              "      <td>-0.266642</td>\n",
              "      <td>-0.152137</td>\n",
              "      <td>1.228064</td>\n",
              "      <td>1</td>\n",
              "    </tr>\n",
              "    <tr>\n",
              "      <th>4</th>\n",
              "      <td>0.046443</td>\n",
              "      <td>0.031985</td>\n",
              "      <td>0.332529</td>\n",
              "      <td>0.010698</td>\n",
              "      <td>0.002047</td>\n",
              "      <td>0.033888</td>\n",
              "      <td>0.039251</td>\n",
              "      <td>0.667807</td>\n",
              "      <td>0.028947</td>\n",
              "      <td>0.018181</td>\n",
              "      <td>...</td>\n",
              "      <td>0.040817</td>\n",
              "      <td>0.042697</td>\n",
              "      <td>0.032893</td>\n",
              "      <td>0.007796</td>\n",
              "      <td>0.038062</td>\n",
              "      <td>0.056830</td>\n",
              "      <td>0.073386</td>\n",
              "      <td>0.027191</td>\n",
              "      <td>3.268066</td>\n",
              "      <td>1</td>\n",
              "    </tr>\n",
              "  </tbody>\n",
              "</table>\n",
              "<p>5 rows × 28 columns</p>\n",
              "</div>\n",
              "      <button class=\"colab-df-convert\" onclick=\"convertToInteractive('df-adfc0d40-8d54-454b-84bb-f3999b0aa1bf')\"\n",
              "              title=\"Convert this dataframe to an interactive table.\"\n",
              "              style=\"display:none;\">\n",
              "        \n",
              "  <svg xmlns=\"http://www.w3.org/2000/svg\" height=\"24px\"viewBox=\"0 0 24 24\"\n",
              "       width=\"24px\">\n",
              "    <path d=\"M0 0h24v24H0V0z\" fill=\"none\"/>\n",
              "    <path d=\"M18.56 5.44l.94 2.06.94-2.06 2.06-.94-2.06-.94-.94-2.06-.94 2.06-2.06.94zm-11 1L8.5 8.5l.94-2.06 2.06-.94-2.06-.94L8.5 2.5l-.94 2.06-2.06.94zm10 10l.94 2.06.94-2.06 2.06-.94-2.06-.94-.94-2.06-.94 2.06-2.06.94z\"/><path d=\"M17.41 7.96l-1.37-1.37c-.4-.4-.92-.59-1.43-.59-.52 0-1.04.2-1.43.59L10.3 9.45l-7.72 7.72c-.78.78-.78 2.05 0 2.83L4 21.41c.39.39.9.59 1.41.59.51 0 1.02-.2 1.41-.59l7.78-7.78 2.81-2.81c.8-.78.8-2.07 0-2.86zM5.41 20L4 18.59l7.72-7.72 1.47 1.35L5.41 20z\"/>\n",
              "  </svg>\n",
              "      </button>\n",
              "      \n",
              "  <style>\n",
              "    .colab-df-container {\n",
              "      display:flex;\n",
              "      flex-wrap:wrap;\n",
              "      gap: 12px;\n",
              "    }\n",
              "\n",
              "    .colab-df-convert {\n",
              "      background-color: #E8F0FE;\n",
              "      border: none;\n",
              "      border-radius: 50%;\n",
              "      cursor: pointer;\n",
              "      display: none;\n",
              "      fill: #1967D2;\n",
              "      height: 32px;\n",
              "      padding: 0 0 0 0;\n",
              "      width: 32px;\n",
              "    }\n",
              "\n",
              "    .colab-df-convert:hover {\n",
              "      background-color: #E2EBFA;\n",
              "      box-shadow: 0px 1px 2px rgba(60, 64, 67, 0.3), 0px 1px 3px 1px rgba(60, 64, 67, 0.15);\n",
              "      fill: #174EA6;\n",
              "    }\n",
              "\n",
              "    [theme=dark] .colab-df-convert {\n",
              "      background-color: #3B4455;\n",
              "      fill: #D2E3FC;\n",
              "    }\n",
              "\n",
              "    [theme=dark] .colab-df-convert:hover {\n",
              "      background-color: #434B5C;\n",
              "      box-shadow: 0px 1px 3px 1px rgba(0, 0, 0, 0.15);\n",
              "      filter: drop-shadow(0px 1px 2px rgba(0, 0, 0, 0.3));\n",
              "      fill: #FFFFFF;\n",
              "    }\n",
              "  </style>\n",
              "\n",
              "      <script>\n",
              "        const buttonEl =\n",
              "          document.querySelector('#df-adfc0d40-8d54-454b-84bb-f3999b0aa1bf button.colab-df-convert');\n",
              "        buttonEl.style.display =\n",
              "          google.colab.kernel.accessAllowed ? 'block' : 'none';\n",
              "\n",
              "        async function convertToInteractive(key) {\n",
              "          const element = document.querySelector('#df-adfc0d40-8d54-454b-84bb-f3999b0aa1bf');\n",
              "          const dataTable =\n",
              "            await google.colab.kernel.invokeFunction('convertToInteractive',\n",
              "                                                     [key], {});\n",
              "          if (!dataTable) return;\n",
              "\n",
              "          const docLinkHtml = 'Like what you see? Visit the ' +\n",
              "            '<a target=\"_blank\" href=https://colab.research.google.com/notebooks/data_table.ipynb>data table notebook</a>'\n",
              "            + ' to learn more about interactive tables.';\n",
              "          element.innerHTML = '';\n",
              "          dataTable['output_type'] = 'display_data';\n",
              "          await google.colab.output.renderOutput(dataTable, element);\n",
              "          const docLink = document.createElement('div');\n",
              "          docLink.innerHTML = docLinkHtml;\n",
              "          element.appendChild(docLink);\n",
              "        }\n",
              "      </script>\n",
              "    </div>\n",
              "  </div>\n",
              "  "
            ]
          },
          "metadata": {},
          "execution_count": 4
        }
      ]
    },
    {
      "cell_type": "code",
      "source": [
        "features = list(df.columns)\n",
        "features.pop(-1)\n",
        "\n",
        "features"
      ],
      "metadata": {
        "colab": {
          "base_uri": "https://localhost:8080/"
        },
        "id": "xwM0-5FjtKi-",
        "outputId": "8299c68c-350e-42d6-da7d-8138e8bc7710"
      },
      "execution_count": null,
      "outputs": [
        {
          "output_type": "execute_result",
          "data": {
            "text/plain": [
              "['modelMag_u',\n",
              " 'modelMag_g',\n",
              " 'modelMag_r',\n",
              " 'modelMag_i',\n",
              " 'modelMag_z',\n",
              " 'fiberMag_u',\n",
              " 'fiberMag_g',\n",
              " 'fiberMag_r',\n",
              " 'fiberMag_i',\n",
              " 'fiberMag_z',\n",
              " 'petroR50_r',\n",
              " 'petroR90_r',\n",
              " 'petroR50_z',\n",
              " 'petroR90_z',\n",
              " 'r',\n",
              " 'i',\n",
              " 'z',\n",
              " 'zerr',\n",
              " 'mmug',\n",
              " 'mmgr',\n",
              " 'mmri',\n",
              " 'mmiz',\n",
              " 'mfug',\n",
              " 'mfgr',\n",
              " 'mfri',\n",
              " 'mfiz',\n",
              " 'z_phot']"
            ]
          },
          "metadata": {},
          "execution_count": 5
        }
      ]
    },
    {
      "cell_type": "code",
      "source": [
        "len(features)"
      ],
      "metadata": {
        "colab": {
          "base_uri": "https://localhost:8080/"
        },
        "id": "qLJ3uTLPzAYS",
        "outputId": "8f16bb04-923a-41b3-b871-c002280585ae"
      },
      "execution_count": null,
      "outputs": [
        {
          "output_type": "execute_result",
          "data": {
            "text/plain": [
              "27"
            ]
          },
          "metadata": {},
          "execution_count": 6
        }
      ]
    },
    {
      "cell_type": "code",
      "source": [
        "x = df[features]\n",
        "y = df['label']"
      ],
      "metadata": {
        "id": "lIrZbWLI3m73"
      },
      "execution_count": null,
      "outputs": []
    },
    {
      "cell_type": "code",
      "source": [
        "label_encoded = y[:, np.newaxis]\n",
        "label_encoded"
      ],
      "metadata": {
        "colab": {
          "base_uri": "https://localhost:8080/"
        },
        "id": "wcR9QtzXdHOi",
        "outputId": "ffa6df98-d1d0-460e-b8cc-85b021c6e87a"
      },
      "execution_count": null,
      "outputs": [
        {
          "output_type": "stream",
          "name": "stderr",
          "text": [
            "/usr/local/lib/python3.7/dist-packages/ipykernel_launcher.py:1: FutureWarning: Support for multi-dimensional indexing (e.g. `obj[:, None]`) is deprecated and will be removed in a future version.  Convert to a numpy array before indexing instead.\n",
            "  \"\"\"Entry point for launching an IPython kernel.\n"
          ]
        },
        {
          "output_type": "execute_result",
          "data": {
            "text/plain": [
              "array([[1],\n",
              "       [1],\n",
              "       [1],\n",
              "       ...,\n",
              "       [0],\n",
              "       [0],\n",
              "       [0]])"
            ]
          },
          "metadata": {},
          "execution_count": 8
        }
      ]
    },
    {
      "cell_type": "code",
      "source": [
        "one_hot_encoder = OneHotEncoder(sparse=False)\n",
        "one_hot_encoded = one_hot_encoder.fit_transform(label_encoded)\n",
        "y = one_hot_encoded\n",
        "y"
      ],
      "metadata": {
        "colab": {
          "base_uri": "https://localhost:8080/"
        },
        "id": "SjBdJBzNdOlm",
        "outputId": "8f833e5e-61d9-4740-97da-900cb552ee4f"
      },
      "execution_count": null,
      "outputs": [
        {
          "output_type": "execute_result",
          "data": {
            "text/plain": [
              "array([[0., 1.],\n",
              "       [0., 1.],\n",
              "       [0., 1.],\n",
              "       ...,\n",
              "       [1., 0.],\n",
              "       [1., 0.],\n",
              "       [1., 0.]])"
            ]
          },
          "metadata": {},
          "execution_count": 9
        }
      ]
    },
    {
      "cell_type": "code",
      "source": [
        "train_x, test_x, train_y, test_y = train_test_split(x, y, test_size=0.1, random_state=42)\n",
        "train_x, val_x, train_y, val_y = train_test_split(train_x, train_y, test_size=0.1, random_state=42)\n",
        "\n",
        "print(len(train_x), len(val_x),len(test_x))"
      ],
      "metadata": {
        "id": "-dY9iCau24Y7",
        "colab": {
          "base_uri": "https://localhost:8080/"
        },
        "outputId": "40e8413f-6ad8-43fd-ce95-6b119593507b"
      },
      "execution_count": null,
      "outputs": [
        {
          "output_type": "stream",
          "name": "stdout",
          "text": [
            "41823 4647 5164\n"
          ]
        }
      ]
    },
    {
      "cell_type": "code",
      "source": [
        "train_x"
      ],
      "metadata": {
        "colab": {
          "base_uri": "https://localhost:8080/",
          "height": 488
        },
        "id": "kJsOwV2t3Owm",
        "outputId": "f1821015-6776-4aa4-abe5-0610672253d8"
      },
      "execution_count": null,
      "outputs": [
        {
          "output_type": "execute_result",
          "data": {
            "text/plain": [
              "       modelMag_u  modelMag_g  modelMag_r  modelMag_i  modelMag_z  fiberMag_u  \\\n",
              "37223    0.080547    0.065414    1.286601    0.060848    0.046780    0.060153   \n",
              "43793   -0.072319   -0.062589   -1.748169   -0.102296   -0.094765   -0.019046   \n",
              "48047    0.002246    0.005641   -0.396146   -0.031345   -0.037794    0.007014   \n",
              "51224   -0.028048   -0.018882   -0.600346   -0.044087   -0.041079   -0.019087   \n",
              "43482   -0.082098   -0.077837   -2.334726   -0.147539   -0.145945   -0.035644   \n",
              "...           ...         ...         ...         ...         ...         ...   \n",
              "16201   -0.052100   -0.016978   -0.254413    0.003165    0.016450   -0.053880   \n",
              "50218   -0.031186   -0.031746   -1.172970   -0.074587   -0.074069   -0.018875   \n",
              "17706    0.011297    0.010556   -0.338343   -0.024960   -0.025878    0.025341   \n",
              "40535    0.047556    0.051649    1.209845    0.045982    0.018709    0.030525   \n",
              "24636    0.017611    0.029274    0.266538    0.008867    0.004677    0.026393   \n",
              "\n",
              "       fiberMag_g  fiberMag_r  fiberMag_i  fiberMag_z  ...      zerr  \\\n",
              "37223    0.042999    1.239828    0.057163    0.045839  ... -0.009194   \n",
              "43793   -0.016666   -0.399860   -0.009298    0.005945  ... -0.009259   \n",
              "48047    0.007081   -0.419491   -0.034272   -0.041500  ... -0.009236   \n",
              "51224   -0.015296   -0.589041   -0.048165   -0.041646  ... -0.009262   \n",
              "43482   -0.040069   -1.574268   -0.098393   -0.098120  ... -0.009263   \n",
              "...           ...         ...         ...         ...  ...       ...   \n",
              "16201   -0.025336   -0.633932   -0.018101    0.000204  ... -0.009131   \n",
              "50218   -0.024586   -1.185353   -0.075366   -0.073134  ... -0.009255   \n",
              "17706    0.018085   -0.118501   -0.010381   -0.012628  ... -0.009231   \n",
              "40535    0.054897    1.574645    0.062764    0.031617  ... -0.009212   \n",
              "24636    0.028403    0.264157    0.006939    0.001009  ... -0.009231   \n",
              "\n",
              "           mmug      mmgr      mmri      mmiz      mfug      mfgr      mfri  \\\n",
              "37223  0.075962  0.106960  0.146593  0.065833  0.053682  0.075670  0.139644   \n",
              "43793 -0.070209 -0.119083 -0.218671 -0.120537 -0.018585 -0.027199 -0.035959   \n",
              "48047  0.004104 -0.007194 -0.057662 -0.042291  0.007335 -0.003999 -0.062081   \n",
              "51224 -0.024424 -0.038287 -0.083992 -0.052094 -0.017894 -0.030824 -0.087215   \n",
              "43482 -0.083233 -0.153296 -0.302889 -0.179517 -0.039402 -0.081571 -0.202954   \n",
              "...         ...       ...       ...       ...       ...       ...       ...   \n",
              "16201 -0.035953 -0.025186 -0.013892  0.011999 -0.041227 -0.042037 -0.060346   \n",
              "50218 -0.032751 -0.069669 -0.152632 -0.090930 -0.022618 -0.055841 -0.154088   \n",
              "17706  0.011373 -0.000416 -0.047449 -0.031096  0.022600  0.014937 -0.018232   \n",
              "40535  0.051628  0.090733  0.126687  0.039569  0.044454  0.096391  0.167583   \n",
              "24636  0.024398  0.037854  0.026656  0.008285  0.028517  0.035342  0.024546   \n",
              "\n",
              "           mfiz    z_phot  \n",
              "37223  0.059426  3.138619  \n",
              "43793 -0.001935  0.150816  \n",
              "48047 -0.043716  0.510792  \n",
              "51224 -0.051816  0.510563  \n",
              "43482 -0.113377  0.115536  \n",
              "...         ...       ...  \n",
              "16201 -0.010325  2.589062  \n",
              "50218 -0.085676  1.820182  \n",
              "17706 -0.013275  2.862507  \n",
              "40535  0.054452  0.043660  \n",
              "24636  0.004586  1.414909  \n",
              "\n",
              "[41823 rows x 27 columns]"
            ],
            "text/html": [
              "\n",
              "  <div id=\"df-3cd4d7cf-5720-44df-8890-786e7ac580cf\">\n",
              "    <div class=\"colab-df-container\">\n",
              "      <div>\n",
              "<style scoped>\n",
              "    .dataframe tbody tr th:only-of-type {\n",
              "        vertical-align: middle;\n",
              "    }\n",
              "\n",
              "    .dataframe tbody tr th {\n",
              "        vertical-align: top;\n",
              "    }\n",
              "\n",
              "    .dataframe thead th {\n",
              "        text-align: right;\n",
              "    }\n",
              "</style>\n",
              "<table border=\"1\" class=\"dataframe\">\n",
              "  <thead>\n",
              "    <tr style=\"text-align: right;\">\n",
              "      <th></th>\n",
              "      <th>modelMag_u</th>\n",
              "      <th>modelMag_g</th>\n",
              "      <th>modelMag_r</th>\n",
              "      <th>modelMag_i</th>\n",
              "      <th>modelMag_z</th>\n",
              "      <th>fiberMag_u</th>\n",
              "      <th>fiberMag_g</th>\n",
              "      <th>fiberMag_r</th>\n",
              "      <th>fiberMag_i</th>\n",
              "      <th>fiberMag_z</th>\n",
              "      <th>...</th>\n",
              "      <th>zerr</th>\n",
              "      <th>mmug</th>\n",
              "      <th>mmgr</th>\n",
              "      <th>mmri</th>\n",
              "      <th>mmiz</th>\n",
              "      <th>mfug</th>\n",
              "      <th>mfgr</th>\n",
              "      <th>mfri</th>\n",
              "      <th>mfiz</th>\n",
              "      <th>z_phot</th>\n",
              "    </tr>\n",
              "  </thead>\n",
              "  <tbody>\n",
              "    <tr>\n",
              "      <th>37223</th>\n",
              "      <td>0.080547</td>\n",
              "      <td>0.065414</td>\n",
              "      <td>1.286601</td>\n",
              "      <td>0.060848</td>\n",
              "      <td>0.046780</td>\n",
              "      <td>0.060153</td>\n",
              "      <td>0.042999</td>\n",
              "      <td>1.239828</td>\n",
              "      <td>0.057163</td>\n",
              "      <td>0.045839</td>\n",
              "      <td>...</td>\n",
              "      <td>-0.009194</td>\n",
              "      <td>0.075962</td>\n",
              "      <td>0.106960</td>\n",
              "      <td>0.146593</td>\n",
              "      <td>0.065833</td>\n",
              "      <td>0.053682</td>\n",
              "      <td>0.075670</td>\n",
              "      <td>0.139644</td>\n",
              "      <td>0.059426</td>\n",
              "      <td>3.138619</td>\n",
              "    </tr>\n",
              "    <tr>\n",
              "      <th>43793</th>\n",
              "      <td>-0.072319</td>\n",
              "      <td>-0.062589</td>\n",
              "      <td>-1.748169</td>\n",
              "      <td>-0.102296</td>\n",
              "      <td>-0.094765</td>\n",
              "      <td>-0.019046</td>\n",
              "      <td>-0.016666</td>\n",
              "      <td>-0.399860</td>\n",
              "      <td>-0.009298</td>\n",
              "      <td>0.005945</td>\n",
              "      <td>...</td>\n",
              "      <td>-0.009259</td>\n",
              "      <td>-0.070209</td>\n",
              "      <td>-0.119083</td>\n",
              "      <td>-0.218671</td>\n",
              "      <td>-0.120537</td>\n",
              "      <td>-0.018585</td>\n",
              "      <td>-0.027199</td>\n",
              "      <td>-0.035959</td>\n",
              "      <td>-0.001935</td>\n",
              "      <td>0.150816</td>\n",
              "    </tr>\n",
              "    <tr>\n",
              "      <th>48047</th>\n",
              "      <td>0.002246</td>\n",
              "      <td>0.005641</td>\n",
              "      <td>-0.396146</td>\n",
              "      <td>-0.031345</td>\n",
              "      <td>-0.037794</td>\n",
              "      <td>0.007014</td>\n",
              "      <td>0.007081</td>\n",
              "      <td>-0.419491</td>\n",
              "      <td>-0.034272</td>\n",
              "      <td>-0.041500</td>\n",
              "      <td>...</td>\n",
              "      <td>-0.009236</td>\n",
              "      <td>0.004104</td>\n",
              "      <td>-0.007194</td>\n",
              "      <td>-0.057662</td>\n",
              "      <td>-0.042291</td>\n",
              "      <td>0.007335</td>\n",
              "      <td>-0.003999</td>\n",
              "      <td>-0.062081</td>\n",
              "      <td>-0.043716</td>\n",
              "      <td>0.510792</td>\n",
              "    </tr>\n",
              "    <tr>\n",
              "      <th>51224</th>\n",
              "      <td>-0.028048</td>\n",
              "      <td>-0.018882</td>\n",
              "      <td>-0.600346</td>\n",
              "      <td>-0.044087</td>\n",
              "      <td>-0.041079</td>\n",
              "      <td>-0.019087</td>\n",
              "      <td>-0.015296</td>\n",
              "      <td>-0.589041</td>\n",
              "      <td>-0.048165</td>\n",
              "      <td>-0.041646</td>\n",
              "      <td>...</td>\n",
              "      <td>-0.009262</td>\n",
              "      <td>-0.024424</td>\n",
              "      <td>-0.038287</td>\n",
              "      <td>-0.083992</td>\n",
              "      <td>-0.052094</td>\n",
              "      <td>-0.017894</td>\n",
              "      <td>-0.030824</td>\n",
              "      <td>-0.087215</td>\n",
              "      <td>-0.051816</td>\n",
              "      <td>0.510563</td>\n",
              "    </tr>\n",
              "    <tr>\n",
              "      <th>43482</th>\n",
              "      <td>-0.082098</td>\n",
              "      <td>-0.077837</td>\n",
              "      <td>-2.334726</td>\n",
              "      <td>-0.147539</td>\n",
              "      <td>-0.145945</td>\n",
              "      <td>-0.035644</td>\n",
              "      <td>-0.040069</td>\n",
              "      <td>-1.574268</td>\n",
              "      <td>-0.098393</td>\n",
              "      <td>-0.098120</td>\n",
              "      <td>...</td>\n",
              "      <td>-0.009263</td>\n",
              "      <td>-0.083233</td>\n",
              "      <td>-0.153296</td>\n",
              "      <td>-0.302889</td>\n",
              "      <td>-0.179517</td>\n",
              "      <td>-0.039402</td>\n",
              "      <td>-0.081571</td>\n",
              "      <td>-0.202954</td>\n",
              "      <td>-0.113377</td>\n",
              "      <td>0.115536</td>\n",
              "    </tr>\n",
              "    <tr>\n",
              "      <th>...</th>\n",
              "      <td>...</td>\n",
              "      <td>...</td>\n",
              "      <td>...</td>\n",
              "      <td>...</td>\n",
              "      <td>...</td>\n",
              "      <td>...</td>\n",
              "      <td>...</td>\n",
              "      <td>...</td>\n",
              "      <td>...</td>\n",
              "      <td>...</td>\n",
              "      <td>...</td>\n",
              "      <td>...</td>\n",
              "      <td>...</td>\n",
              "      <td>...</td>\n",
              "      <td>...</td>\n",
              "      <td>...</td>\n",
              "      <td>...</td>\n",
              "      <td>...</td>\n",
              "      <td>...</td>\n",
              "      <td>...</td>\n",
              "      <td>...</td>\n",
              "    </tr>\n",
              "    <tr>\n",
              "      <th>16201</th>\n",
              "      <td>-0.052100</td>\n",
              "      <td>-0.016978</td>\n",
              "      <td>-0.254413</td>\n",
              "      <td>0.003165</td>\n",
              "      <td>0.016450</td>\n",
              "      <td>-0.053880</td>\n",
              "      <td>-0.025336</td>\n",
              "      <td>-0.633932</td>\n",
              "      <td>-0.018101</td>\n",
              "      <td>0.000204</td>\n",
              "      <td>...</td>\n",
              "      <td>-0.009131</td>\n",
              "      <td>-0.035953</td>\n",
              "      <td>-0.025186</td>\n",
              "      <td>-0.013892</td>\n",
              "      <td>0.011999</td>\n",
              "      <td>-0.041227</td>\n",
              "      <td>-0.042037</td>\n",
              "      <td>-0.060346</td>\n",
              "      <td>-0.010325</td>\n",
              "      <td>2.589062</td>\n",
              "    </tr>\n",
              "    <tr>\n",
              "      <th>50218</th>\n",
              "      <td>-0.031186</td>\n",
              "      <td>-0.031746</td>\n",
              "      <td>-1.172970</td>\n",
              "      <td>-0.074587</td>\n",
              "      <td>-0.074069</td>\n",
              "      <td>-0.018875</td>\n",
              "      <td>-0.024586</td>\n",
              "      <td>-1.185353</td>\n",
              "      <td>-0.075366</td>\n",
              "      <td>-0.073134</td>\n",
              "      <td>...</td>\n",
              "      <td>-0.009255</td>\n",
              "      <td>-0.032751</td>\n",
              "      <td>-0.069669</td>\n",
              "      <td>-0.152632</td>\n",
              "      <td>-0.090930</td>\n",
              "      <td>-0.022618</td>\n",
              "      <td>-0.055841</td>\n",
              "      <td>-0.154088</td>\n",
              "      <td>-0.085676</td>\n",
              "      <td>1.820182</td>\n",
              "    </tr>\n",
              "    <tr>\n",
              "      <th>17706</th>\n",
              "      <td>0.011297</td>\n",
              "      <td>0.010556</td>\n",
              "      <td>-0.338343</td>\n",
              "      <td>-0.024960</td>\n",
              "      <td>-0.025878</td>\n",
              "      <td>0.025341</td>\n",
              "      <td>0.018085</td>\n",
              "      <td>-0.118501</td>\n",
              "      <td>-0.010381</td>\n",
              "      <td>-0.012628</td>\n",
              "      <td>...</td>\n",
              "      <td>-0.009231</td>\n",
              "      <td>0.011373</td>\n",
              "      <td>-0.000416</td>\n",
              "      <td>-0.047449</td>\n",
              "      <td>-0.031096</td>\n",
              "      <td>0.022600</td>\n",
              "      <td>0.014937</td>\n",
              "      <td>-0.018232</td>\n",
              "      <td>-0.013275</td>\n",
              "      <td>2.862507</td>\n",
              "    </tr>\n",
              "    <tr>\n",
              "      <th>40535</th>\n",
              "      <td>0.047556</td>\n",
              "      <td>0.051649</td>\n",
              "      <td>1.209845</td>\n",
              "      <td>0.045982</td>\n",
              "      <td>0.018709</td>\n",
              "      <td>0.030525</td>\n",
              "      <td>0.054897</td>\n",
              "      <td>1.574645</td>\n",
              "      <td>0.062764</td>\n",
              "      <td>0.031617</td>\n",
              "      <td>...</td>\n",
              "      <td>-0.009212</td>\n",
              "      <td>0.051628</td>\n",
              "      <td>0.090733</td>\n",
              "      <td>0.126687</td>\n",
              "      <td>0.039569</td>\n",
              "      <td>0.044454</td>\n",
              "      <td>0.096391</td>\n",
              "      <td>0.167583</td>\n",
              "      <td>0.054452</td>\n",
              "      <td>0.043660</td>\n",
              "    </tr>\n",
              "    <tr>\n",
              "      <th>24636</th>\n",
              "      <td>0.017611</td>\n",
              "      <td>0.029274</td>\n",
              "      <td>0.266538</td>\n",
              "      <td>0.008867</td>\n",
              "      <td>0.004677</td>\n",
              "      <td>0.026393</td>\n",
              "      <td>0.028403</td>\n",
              "      <td>0.264157</td>\n",
              "      <td>0.006939</td>\n",
              "      <td>0.001009</td>\n",
              "      <td>...</td>\n",
              "      <td>-0.009231</td>\n",
              "      <td>0.024398</td>\n",
              "      <td>0.037854</td>\n",
              "      <td>0.026656</td>\n",
              "      <td>0.008285</td>\n",
              "      <td>0.028517</td>\n",
              "      <td>0.035342</td>\n",
              "      <td>0.024546</td>\n",
              "      <td>0.004586</td>\n",
              "      <td>1.414909</td>\n",
              "    </tr>\n",
              "  </tbody>\n",
              "</table>\n",
              "<p>41823 rows × 27 columns</p>\n",
              "</div>\n",
              "      <button class=\"colab-df-convert\" onclick=\"convertToInteractive('df-3cd4d7cf-5720-44df-8890-786e7ac580cf')\"\n",
              "              title=\"Convert this dataframe to an interactive table.\"\n",
              "              style=\"display:none;\">\n",
              "        \n",
              "  <svg xmlns=\"http://www.w3.org/2000/svg\" height=\"24px\"viewBox=\"0 0 24 24\"\n",
              "       width=\"24px\">\n",
              "    <path d=\"M0 0h24v24H0V0z\" fill=\"none\"/>\n",
              "    <path d=\"M18.56 5.44l.94 2.06.94-2.06 2.06-.94-2.06-.94-.94-2.06-.94 2.06-2.06.94zm-11 1L8.5 8.5l.94-2.06 2.06-.94-2.06-.94L8.5 2.5l-.94 2.06-2.06.94zm10 10l.94 2.06.94-2.06 2.06-.94-2.06-.94-.94-2.06-.94 2.06-2.06.94z\"/><path d=\"M17.41 7.96l-1.37-1.37c-.4-.4-.92-.59-1.43-.59-.52 0-1.04.2-1.43.59L10.3 9.45l-7.72 7.72c-.78.78-.78 2.05 0 2.83L4 21.41c.39.39.9.59 1.41.59.51 0 1.02-.2 1.41-.59l7.78-7.78 2.81-2.81c.8-.78.8-2.07 0-2.86zM5.41 20L4 18.59l7.72-7.72 1.47 1.35L5.41 20z\"/>\n",
              "  </svg>\n",
              "      </button>\n",
              "      \n",
              "  <style>\n",
              "    .colab-df-container {\n",
              "      display:flex;\n",
              "      flex-wrap:wrap;\n",
              "      gap: 12px;\n",
              "    }\n",
              "\n",
              "    .colab-df-convert {\n",
              "      background-color: #E8F0FE;\n",
              "      border: none;\n",
              "      border-radius: 50%;\n",
              "      cursor: pointer;\n",
              "      display: none;\n",
              "      fill: #1967D2;\n",
              "      height: 32px;\n",
              "      padding: 0 0 0 0;\n",
              "      width: 32px;\n",
              "    }\n",
              "\n",
              "    .colab-df-convert:hover {\n",
              "      background-color: #E2EBFA;\n",
              "      box-shadow: 0px 1px 2px rgba(60, 64, 67, 0.3), 0px 1px 3px 1px rgba(60, 64, 67, 0.15);\n",
              "      fill: #174EA6;\n",
              "    }\n",
              "\n",
              "    [theme=dark] .colab-df-convert {\n",
              "      background-color: #3B4455;\n",
              "      fill: #D2E3FC;\n",
              "    }\n",
              "\n",
              "    [theme=dark] .colab-df-convert:hover {\n",
              "      background-color: #434B5C;\n",
              "      box-shadow: 0px 1px 3px 1px rgba(0, 0, 0, 0.15);\n",
              "      filter: drop-shadow(0px 1px 2px rgba(0, 0, 0, 0.3));\n",
              "      fill: #FFFFFF;\n",
              "    }\n",
              "  </style>\n",
              "\n",
              "      <script>\n",
              "        const buttonEl =\n",
              "          document.querySelector('#df-3cd4d7cf-5720-44df-8890-786e7ac580cf button.colab-df-convert');\n",
              "        buttonEl.style.display =\n",
              "          google.colab.kernel.accessAllowed ? 'block' : 'none';\n",
              "\n",
              "        async function convertToInteractive(key) {\n",
              "          const element = document.querySelector('#df-3cd4d7cf-5720-44df-8890-786e7ac580cf');\n",
              "          const dataTable =\n",
              "            await google.colab.kernel.invokeFunction('convertToInteractive',\n",
              "                                                     [key], {});\n",
              "          if (!dataTable) return;\n",
              "\n",
              "          const docLinkHtml = 'Like what you see? Visit the ' +\n",
              "            '<a target=\"_blank\" href=https://colab.research.google.com/notebooks/data_table.ipynb>data table notebook</a>'\n",
              "            + ' to learn more about interactive tables.';\n",
              "          element.innerHTML = '';\n",
              "          dataTable['output_type'] = 'display_data';\n",
              "          await google.colab.output.renderOutput(dataTable, element);\n",
              "          const docLink = document.createElement('div');\n",
              "          docLink.innerHTML = docLinkHtml;\n",
              "          element.appendChild(docLink);\n",
              "        }\n",
              "      </script>\n",
              "    </div>\n",
              "  </div>\n",
              "  "
            ]
          },
          "metadata": {},
          "execution_count": 11
        }
      ]
    },
    {
      "cell_type": "code",
      "source": [
        "co_classifier = keras.Sequential()\n",
        "co_classifier.add(layers.Dense(26))\n",
        "co_classifier.add(layers.Dense(8,  activation='relu'))\n",
        "co_classifier.add(layers.Dense(64, activation='relu'))\n",
        "co_classifier.add(layers.Dense(256,  activation='relu'))\n",
        "co_classifier.add(layers.Dense(8,  activation='tanh'))\n",
        "co_classifier.add(layers.Dense(64,  activation='elu'))\n",
        "co_classifier.add(layers.Dense(2, activation='softmax'))\n",
        "\n"
      ],
      "metadata": {
        "id": "RWoSxi17yRJs"
      },
      "execution_count": null,
      "outputs": []
    },
    {
      "cell_type": "code",
      "source": [
        "learning_rate = 0.00001\n",
        "co_classifier.compile(\n",
        "    loss='binary_crossentropy', \n",
        "    optimizer=keras.optimizers.Adam(learning_rate=learning_rate), \n",
        "    metrics=['acc']\n",
        ")"
      ],
      "metadata": {
        "id": "l3z-3WHvtYLu"
      },
      "execution_count": null,
      "outputs": []
    },
    {
      "cell_type": "code",
      "source": [
        "history = co_classifier.fit(\n",
        "    train_x, \n",
        "    train_y,\n",
        "    validation_data= (val_x,val_y), \n",
        "    epochs=10,\n",
        "    batch_size = 64 \n",
        ")"
      ],
      "metadata": {
        "colab": {
          "base_uri": "https://localhost:8080/"
        },
        "id": "6Yfnbp-a0td-",
        "outputId": "a0311171-d4e3-4709-a4fc-592675c4902e"
      },
      "execution_count": null,
      "outputs": [
        {
          "output_type": "stream",
          "name": "stdout",
          "text": [
            "Epoch 1/10\n",
            "654/654 [==============================] - 4s 4ms/step - loss: 0.6815 - acc: 0.6361 - val_loss: 0.6632 - val_acc: 0.6925\n",
            "Epoch 2/10\n",
            "654/654 [==============================] - 2s 3ms/step - loss: 0.6321 - acc: 0.7560 - val_loss: 0.6013 - val_acc: 0.7874\n",
            "Epoch 3/10\n",
            "654/654 [==============================] - 2s 3ms/step - loss: 0.5673 - acc: 0.7978 - val_loss: 0.5437 - val_acc: 0.8012\n",
            "Epoch 4/10\n",
            "654/654 [==============================] - 2s 3ms/step - loss: 0.5226 - acc: 0.8064 - val_loss: 0.5113 - val_acc: 0.8072\n",
            "Epoch 5/10\n",
            "654/654 [==============================] - 2s 3ms/step - loss: 0.4978 - acc: 0.8117 - val_loss: 0.4915 - val_acc: 0.8113\n",
            "Epoch 6/10\n",
            "654/654 [==============================] - 2s 3ms/step - loss: 0.4808 - acc: 0.8155 - val_loss: 0.4766 - val_acc: 0.8139\n",
            "Epoch 7/10\n",
            "654/654 [==============================] - 2s 3ms/step - loss: 0.4669 - acc: 0.8168 - val_loss: 0.4641 - val_acc: 0.8154\n",
            "Epoch 8/10\n",
            "654/654 [==============================] - 2s 3ms/step - loss: 0.4551 - acc: 0.8188 - val_loss: 0.4536 - val_acc: 0.8182\n",
            "Epoch 9/10\n",
            "654/654 [==============================] - 2s 3ms/step - loss: 0.4455 - acc: 0.8203 - val_loss: 0.4457 - val_acc: 0.8190\n",
            "Epoch 10/10\n",
            "654/654 [==============================] - 2s 3ms/step - loss: 0.4386 - acc: 0.8212 - val_loss: 0.4402 - val_acc: 0.8201\n"
          ]
        }
      ]
    },
    {
      "cell_type": "code",
      "source": [
        "test_y_pred = co_classifier.predict(test_x)"
      ],
      "metadata": {
        "id": "bsDnDtQDMi1j",
        "colab": {
          "base_uri": "https://localhost:8080/"
        },
        "outputId": "5c8be39d-612c-4442-a164-c3720187fe07"
      },
      "execution_count": null,
      "outputs": [
        {
          "output_type": "stream",
          "name": "stdout",
          "text": [
            "162/162 [==============================] - 0s 1ms/step\n"
          ]
        }
      ]
    },
    {
      "cell_type": "code",
      "source": [
        "test_y_pred"
      ],
      "metadata": {
        "colab": {
          "base_uri": "https://localhost:8080/"
        },
        "id": "MgUh3ulpcSmB",
        "outputId": "9c260d78-0567-4eef-f2dc-8f6c04436b64"
      },
      "execution_count": null,
      "outputs": [
        {
          "output_type": "execute_result",
          "data": {
            "text/plain": [
              "array([[0.10740309, 0.89259684],\n",
              "       [0.07716674, 0.9228333 ],\n",
              "       [0.09421235, 0.9057875 ],\n",
              "       ...,\n",
              "       [0.9986003 , 0.00139966],\n",
              "       [0.08611914, 0.9138808 ],\n",
              "       [0.07284719, 0.9271528 ]], dtype=float32)"
            ]
          },
          "metadata": {},
          "execution_count": 16
        }
      ]
    },
    {
      "cell_type": "code",
      "source": [
        "test_y"
      ],
      "metadata": {
        "colab": {
          "base_uri": "https://localhost:8080/"
        },
        "id": "Q7JFE_d4dINa",
        "outputId": "2d9e0530-c1cc-4851-c716-d868ef589c27"
      },
      "execution_count": null,
      "outputs": [
        {
          "output_type": "execute_result",
          "data": {
            "text/plain": [
              "array([[1., 0.],\n",
              "       [1., 0.],\n",
              "       [0., 1.],\n",
              "       ...,\n",
              "       [1., 0.],\n",
              "       [0., 1.],\n",
              "       [0., 1.]])"
            ]
          },
          "metadata": {},
          "execution_count": 17
        }
      ]
    },
    {
      "cell_type": "code",
      "source": [
        "label_pred = []\n",
        "label_expected = []\n",
        "for i in range(test_y_pred.shape[0]):\n",
        "    if test_y_pred[i][0]>test_y_pred[i][1]:\n",
        "        label_pred.append(\"NO\")\n",
        "    else:\n",
        "        label_pred.append(\"CO\")\n",
        "        \n",
        "for i in range(test_y.shape[0]):\n",
        "    if test_y[i][0]>test_y[i][1]:\n",
        "        label_expected.append(\"NO\")\n",
        "    else:\n",
        "        label_expected.append(\"CO\")\n",
        "        "
      ],
      "metadata": {
        "id": "KWKwaCoudNvo"
      },
      "execution_count": null,
      "outputs": []
    },
    {
      "cell_type": "code",
      "source": [
        "from sklearn.metrics import classification_report"
      ],
      "metadata": {
        "id": "f2YdJ3Leb7GK"
      },
      "execution_count": null,
      "outputs": []
    },
    {
      "cell_type": "code",
      "source": [
        "true_co = 0\n",
        "expected_co = 0\n",
        "detected_co = 0\n",
        "\n",
        "for i in range(len(test_y)):\n",
        "    if label_pred[i]=='CO':\n",
        "        detected_co+=1\n",
        "    if label_expected[i]=='CO':\n",
        "        expected_co+=1\n",
        "    if label_expected[i]=='CO' and label_pred[i]=='CO':\n",
        "        true_co+=1\n",
        "\n",
        "print(\"%CO detected : \", (true_co*100)/expected_co)"
      ],
      "metadata": {
        "colab": {
          "base_uri": "https://localhost:8080/"
        },
        "id": "qj21aQyTe6L6",
        "outputId": "643e2b5c-6373-4ab9-e2e2-ccda20ba2bc7"
      },
      "execution_count": null,
      "outputs": [
        {
          "output_type": "stream",
          "name": "stdout",
          "text": [
            "%CO detected :  95.03273007316135\n"
          ]
        }
      ]
    },
    {
      "cell_type": "code",
      "source": [
        "true_no = 0\n",
        "expected_no = 0\n",
        "detected_no = 0\n",
        "\n",
        "for i in range(len(test_y)):\n",
        "    if label_pred[i]=='NO':\n",
        "        detected_no+=1\n",
        "    if label_expected[i]=='NO':\n",
        "        expected_no+=1\n",
        "    if label_expected[i]=='NO' and label_pred[i]=='NO':\n",
        "        true_no+=1\n",
        "\n",
        "print(\"%NO detected : \", (true_no*100)/expected_no)"
      ],
      "metadata": {
        "colab": {
          "base_uri": "https://localhost:8080/"
        },
        "id": "BhRmxb1ccDN2",
        "outputId": "2f42b1ad-989c-4951-b3c1-372f8d690a1b"
      },
      "execution_count": null,
      "outputs": [
        {
          "output_type": "stream",
          "name": "stdout",
          "text": [
            "%NO detected :  72.22438644331905\n"
          ]
        }
      ]
    },
    {
      "cell_type": "code",
      "source": [],
      "metadata": {
        "id": "z_1wzeL0cKhu"
      },
      "execution_count": null,
      "outputs": []
    }
  ]
}